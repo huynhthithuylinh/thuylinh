{
  "nbformat": 4,
  "nbformat_minor": 0,
  "metadata": {
    "colab": {
      "provenance": [],
      "authorship_tag": "ABX9TyMDApW2a+McW+5JNC1matP2",
      "include_colab_link": true
    },
    "kernelspec": {
      "name": "python3",
      "display_name": "Python 3"
    },
    "language_info": {
      "name": "python"
    }
  },
  "cells": [
    {
      "cell_type": "markdown",
      "metadata": {
        "id": "view-in-github",
        "colab_type": "text"
      },
      "source": [
        "<a href=\"https://colab.research.google.com/github/huynhthithuylinh/thuylinh/blob/main/1_2_4_Defining_functions.ipynb\" target=\"_parent\"><img src=\"https://colab.research.google.com/assets/colab-badge.svg\" alt=\"Open In Colab\"/></a>"
      ]
    },
    {
      "cell_type": "code",
      "execution_count": 3,
      "metadata": {
        "colab": {
          "base_uri": "https://localhost:8080/"
        },
        "id": "ewHNkH-LRs3T",
        "outputId": "c912008d-26e4-479a-b043-5d4143434fba"
      },
      "outputs": [
        {
          "output_type": "stream",
          "name": "stdout",
          "text": [
            "in test function\n"
          ]
        }
      ],
      "source": [
        "def test():\n",
        "  print('in test function')\n",
        "test()"
      ]
    },
    {
      "cell_type": "code",
      "source": [
        "def disk_area(radius):\n",
        "     return 3.14 * radius * radius\n",
        "\n",
        "\n",
        "disk_area(1.5)"
      ],
      "metadata": {
        "colab": {
          "base_uri": "https://localhost:8080/"
        },
        "id": "tqY7FQsySYXk",
        "outputId": "0b9410bb-e3fa-4886-dc0e-23b6347d30a6"
      },
      "execution_count": 4,
      "outputs": [
        {
          "output_type": "execute_result",
          "data": {
            "text/plain": [
              "7.0649999999999995"
            ]
          },
          "metadata": {},
          "execution_count": 4
        }
      ]
    },
    {
      "cell_type": "code",
      "source": [
        "def double_it(x=2):\n",
        "     return x * 2\n",
        "\n",
        "\n",
        "print(double_it())\n",
        "print(double_it(3))"
      ],
      "metadata": {
        "colab": {
          "base_uri": "https://localhost:8080/"
        },
        "id": "4EArk0KSTc6t",
        "outputId": "49dd28e0-44db-4558-babf-1268498e5fbe"
      },
      "execution_count": 6,
      "outputs": [
        {
          "output_type": "stream",
          "name": "stdout",
          "text": [
            "4\n",
            "6\n"
          ]
        }
      ]
    },
    {
      "cell_type": "code",
      "source": [
        "bigx=10\n",
        "def double_it(x=bigx):\n",
        "  return x*2\n",
        "bigx=1e9\n",
        "double_it()"
      ],
      "metadata": {
        "colab": {
          "base_uri": "https://localhost:8080/"
        },
        "id": "c-9TNJKKTphc",
        "outputId": "e4cde759-2500-4fa1-ee55-c5e691e076c4"
      },
      "execution_count": 8,
      "outputs": [
        {
          "output_type": "execute_result",
          "data": {
            "text/plain": [
              "20"
            ]
          },
          "metadata": {},
          "execution_count": 8
        }
      ]
    },
    {
      "cell_type": "code",
      "source": [
        "def add_to_dict(args={'a': 1, 'b': 2}):\n",
        "     for i in args.keys():\n",
        "         args[i] += 1\n",
        "     print(args)\n",
        "\n",
        "\n",
        "print(add_to_dict)\n",
        "print(add_to_dict())\n",
        "print(add_to_dict())\n",
        "print(add_to_dict())\n"
      ],
      "metadata": {
        "colab": {
          "base_uri": "https://localhost:8080/"
        },
        "id": "N0Pt1JtxT4Lq",
        "outputId": "04ed26d9-322d-4a7e-f382-88faef74cbf4"
      },
      "execution_count": 11,
      "outputs": [
        {
          "output_type": "stream",
          "name": "stdout",
          "text": [
            "<function add_to_dict at 0x7fbf95628dc0>\n",
            "{'a': 2, 'b': 3}\n",
            "None\n",
            "{'a': 3, 'b': 4}\n",
            "None\n",
            "{'a': 4, 'b': 5}\n",
            "None\n"
          ]
        }
      ]
    },
    {
      "cell_type": "code",
      "source": [
        "def try_to_modify(x, y, z):\n",
        "    x = 23\n",
        "    y.append(42)\n",
        "    z = [99] # new reference\n",
        "    print(x)\n",
        "    print(y)\n",
        "    print(z)\n",
        "\n",
        "a = 77    # immutable variable\n",
        "b = [99]  # mutable variable\n",
        "c = [28]\n",
        "try_to_modify(a, b, c)\n"
      ],
      "metadata": {
        "colab": {
          "base_uri": "https://localhost:8080/"
        },
        "id": "VTPcKI4YT4T7",
        "outputId": "c977d914-8d12-4d15-a7b2-229728b2d45d"
      },
      "execution_count": 12,
      "outputs": [
        {
          "output_type": "stream",
          "name": "stdout",
          "text": [
            "23\n",
            "[99, 42]\n",
            "[99]\n"
          ]
        }
      ]
    },
    {
      "cell_type": "code",
      "source": [
        "x = 5\n",
        "\n",
        "def addx(y):\n",
        "     return x + y\n",
        "\n",
        "\n",
        "addx(10)"
      ],
      "metadata": {
        "colab": {
          "base_uri": "https://localhost:8080/"
        },
        "id": "0BWvPOKOUU4u",
        "outputId": "e401982d-6a94-4f5a-d13e-ecd3cd2de46c"
      },
      "execution_count": 13,
      "outputs": [
        {
          "output_type": "execute_result",
          "data": {
            "text/plain": [
              "15"
            ]
          },
          "metadata": {},
          "execution_count": 13
        }
      ]
    },
    {
      "cell_type": "code",
      "source": [
        "def setx(y):\n",
        "  x=y\n",
        "  print('x is %d' % x)\n",
        "setx(10)\n",
        "x"
      ],
      "metadata": {
        "colab": {
          "base_uri": "https://localhost:8080/"
        },
        "id": "IhzwP_FIUrUo",
        "outputId": "8b9f68fa-0793-4b37-e785-114f98163880"
      },
      "execution_count": 16,
      "outputs": [
        {
          "output_type": "stream",
          "name": "stdout",
          "text": [
            "x is 10\n"
          ]
        },
        {
          "output_type": "execute_result",
          "data": {
            "text/plain": [
              "5"
            ]
          },
          "metadata": {},
          "execution_count": 16
        }
      ]
    },
    {
      "cell_type": "markdown",
      "source": [
        " **1.2.4.6. Số tham số biến**\n",
        "\n",
        "*   args: bất kỳ số lượng đối số vị trí nào được đóng gói vào một bộ dữ liệu\n",
        "*   kwargs: bất kỳ số lượng đối số từ khóa nào được đóng gói trong từ điển\n",
        "\n",
        "\n",
        "\n",
        "\n",
        "\n",
        "\n",
        "\n",
        "\n"
      ],
      "metadata": {
        "id": "dLc63p-tVP4E"
      }
    },
    {
      "cell_type": "code",
      "source": [
        "def variable_args(*args, **kwargs):\n",
        "     print('args is', args)\n",
        "     print('kwargs is', kwargs)\n",
        "\n",
        "\n",
        "variable_args('one', 'two', x=1, y=2, z=3)"
      ],
      "metadata": {
        "colab": {
          "base_uri": "https://localhost:8080/"
        },
        "id": "MSk30wGpU6iK",
        "outputId": "18d7910a-f99e-4fff-8dcd-0c270ea6afd7"
      },
      "execution_count": 17,
      "outputs": [
        {
          "output_type": "stream",
          "name": "stdout",
          "text": [
            "args is ('one', 'two')\n",
            "kwargs is {'x': 1, 'y': 2, 'z': 3}\n"
          ]
        }
      ]
    },
    {
      "cell_type": "markdown",
      "source": [
        "**1.2.4.7. tài liệu**"
      ],
      "metadata": {
        "id": "3yR3shDdVtPb"
      }
    },
    {
      "cell_type": "code",
      "source": [
        "def funcname(params):\n",
        "     \"\"\"Concise one-line sentence describing the function.\n",
        "\n",
        "     Extended summary which can contain multiple paragraphs.\n",
        "     \"\"\"\n",
        "     # function body\n",
        "     pass\n",
        "funcname?"
      ],
      "metadata": {
        "id": "4_2nWzFYVx7v"
      },
      "execution_count": 19,
      "outputs": []
    },
    {
      "cell_type": "markdown",
      "source": [
        "'funcname' là một hàm số có tham số 'params' và thân hàm chưa một lệnh 'pass'. Khi sử dụng 'funcname?' trong môi trường python có thể truy cập thông tin trợ giúp của hàm đó, là tính năng rất hữu ích trong python để xem thông tin chi tiết về các hàm hoặc module"
      ],
      "metadata": {
        "id": "TnsTmZZ5WOcK"
      }
    },
    {
      "cell_type": "markdown",
      "source": [
        "**1.2.4.8. Chức năng là đối tượng**"
      ],
      "metadata": {
        "id": "J75AuJ90W5j9"
      }
    },
    {
      "cell_type": "code",
      "source": [
        "va = variable_args\n",
        "va('three',x=1,y=2)"
      ],
      "metadata": {
        "colab": {
          "base_uri": "https://localhost:8080/"
        },
        "id": "VVcVGVzdW1cw",
        "outputId": "d85a373c-2a04-4daa-eabf-e4fc70a884e1"
      },
      "execution_count": 20,
      "outputs": [
        {
          "output_type": "stream",
          "name": "stdout",
          "text": [
            "args is ('three',)\n",
            "kwargs is {'x': 1, 'y': 2}\n"
          ]
        }
      ]
    },
    {
      "cell_type": "code",
      "source": [
        "def fibonacci(n):\n",
        "    # Tạo danh sách chứa số hạng đầu tiên của dãy Fibonacci\n",
        "    fibonacci_list = [0, 1]\n",
        "\n",
        "    # Sử dụng vòng lặp để tính toán các số hạng còn lại\n",
        "    for i in range(2, n):\n",
        "        # Số hạng tiếp theo là tổng của hai số hạng trước đó\n",
        "        next_fibonacci_number = fibonacci_list[i-1] + fibonacci_list[i-2]\n",
        "        # Thêm số hạng tiếp theo vào danh sách\n",
        "        fibonacci_list.append(next_fibonacci_number)\n",
        "\n",
        "    return fibonacci_list\n",
        "result = fibonacci(10)\n",
        "print(result)"
      ],
      "metadata": {
        "colab": {
          "base_uri": "https://localhost:8080/"
        },
        "id": "TKtwfE3-XRDU",
        "outputId": "7c30a415-a910-4aa7-bf51-a77c13c1f7e5"
      },
      "execution_count": 23,
      "outputs": [
        {
          "output_type": "stream",
          "name": "stdout",
          "text": [
            "[0, 1, 1, 2, 3, 5, 8, 13, 21, 34]\n"
          ]
        }
      ]
    },
    {
      "cell_type": "markdown",
      "source": [
        "Hàm fibonacci có một tham số n để chỉ định số hạng cuối cùng mà bạn muốn tính toán. Đầu tiên, ta khởi tạo danh sách với hai số đầu tiên (0 và 1). Sau đó, sử dụng một vòng lặp để tính toán các số hạng tiếp theo và thêm chúng vào danh sách. Cuối cùng, hàm trả về danh sách chứa các số hạng đầu tiên của dãy Fibonacci."
      ],
      "metadata": {
        "id": "31iV9BmfXnH-"
      }
    },
    {
      "cell_type": "code",
      "source": [],
      "metadata": {
        "id": "lgZU_QnVXno6"
      },
      "execution_count": null,
      "outputs": []
    }
  ]
}